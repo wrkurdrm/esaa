{
 "cells": [
  {
   "cell_type": "markdown",
   "metadata": {},
   "source": [
    "1번. 목적: 훈련 알고리즘의 속도 높이기, 데이터를 시각화하고 가장 중요한 특성에 대한 통찰을 얻기 위해, 메모리 공간 절약\n",
    "단점: 일부 정보를 잃어버려 훈련 알고리즘의 성능을 감소시킬 수 있다. 계산 비용이 높다. 머신러닝의 파이프라인 복잡도를 증가시킨다. 변환된 데이터를 이해하기 어려운 경우가 많다.\n",
    "\n",
    "7번. 역변환을 수행해서 재구성 오차를 측정하면 된다. 하지만 모든 차원 축소 알고리즘이 역변환을 제공하지는 않는다.만약 차원 축소를 다른 머신러닝 알고리즘을 적용하기 전에 전처리 단계로 사용하면 두번째 알고리즘의 성능을 측정해 볼 수 있다.\n",
    "\n",
    "3번. 먼저 엘보 규칙이 있다.클러스터 개수의 함수로 이너셔를 그리고 그래프에서 이너셔가 더는 빠르게 감소하지 않는 지점(엘보)을 찾는다. 일반적으로 이 지점이 최적의 클러스터 개수에 가깝다. 다른 방법은 클러스터 개수의 함수로 실루엣 점수를 그래프로 그린다.그래프에 뾰족하게 올라간 지점 근처가 일반적으로 클러스터 개수다."
   ]
  }
 ],
 "metadata": {
  "kernelspec": {
   "display_name": "Python 3",
   "language": "python",
   "name": "python3"
  },
  "language_info": {
   "codemirror_mode": {
    "name": "ipython",
    "version": 3
   },
   "file_extension": ".py",
   "mimetype": "text/x-python",
   "name": "python",
   "nbconvert_exporter": "python",
   "pygments_lexer": "ipython3",
   "version": "3.8.3"
  }
 },
 "nbformat": 4,
 "nbformat_minor": 4
}
